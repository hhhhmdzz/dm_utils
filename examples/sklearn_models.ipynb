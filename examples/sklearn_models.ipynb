{
 "cells": [
  {
   "cell_type": "code",
   "execution_count": 1,
   "metadata": {},
   "outputs": [
    {
     "name": "stderr",
     "output_type": "stream",
     "text": [
      "/home/hemingze/miniconda3/envs/mathm/lib/python3.10/site-packages/pytorch_tabnet/abstract_model.py:82: UserWarning: Device used : cuda\n",
      "  warnings.warn(f\"Device used : {self.device}\")\n"
     ]
    }
   ],
   "source": [
    "from sklearn.datasets import fetch_california_housing, load_iris\n",
    "from sklearn.model_selection import train_test_split\n",
    "from sklearn.metrics import mean_squared_error, accuracy_score\n",
    "from dm_utils import HOM, OOF"
   ]
  },
  {
   "cell_type": "code",
   "execution_count": 2,
   "metadata": {},
   "outputs": [],
   "source": [
    "x, y = fetch_california_housing(return_X_y=True, as_frame=True)\n",
    "x_train, x_test, y_train, y_test = train_test_split(x, y, test_size=0.2, random_state=42)\n",
    "x_train, x_valid, y_train, y_valid = train_test_split(x_train, y_train, test_size=0.2, random_state=42)"
   ]
  },
  {
   "cell_type": "code",
   "execution_count": 3,
   "metadata": {},
   "outputs": [
    {
     "name": "stdout",
     "output_type": "stream",
     "text": [
      "\u001b[32m[INFO] hold-out method training begin.\u001b[0m\n",
      "\u001b[32m[INFO] Model LinearRegression 1 / 9 training begin.\u001b[0m\n",
      "\u001b[32m[INFO] Model LinearRegression 1 / 9 training finish, cost time 0.008 s.\u001b[0m\n",
      "\u001b[36m[SUCEESS] 1 / 9 model validation scores: {'mse': 0.538605966029124, 'model': 'LinearRegression'}\u001b[0m\n",
      "\u001b[32m[INFO] Model SVR 2 / 9 training begin.\u001b[0m\n",
      "\u001b[32m[INFO] Model SVR 2 / 9 training finish, cost time 4.757 s.\u001b[0m\n",
      "\u001b[36m[SUCEESS] 2 / 9 model validation scores: {'mse': 1.4277600045339522, 'model': 'SVR'}\u001b[0m\n",
      "\u001b[32m[INFO] Model KNeighborsRegressor 3 / 9 training begin.\u001b[0m\n",
      "\u001b[32m[INFO] Model KNeighborsRegressor 3 / 9 training finish, cost time 0.017 s.\u001b[0m\n",
      "\u001b[36m[SUCEESS] 3 / 9 model validation scores: {'mse': 1.1852411552960582, 'model': 'KNeighborsRegressor'}\u001b[0m\n",
      "\u001b[32m[INFO] Model DecisionTreeRegressor 4 / 9 training begin.\u001b[0m\n",
      "\u001b[32m[INFO] Model DecisionTreeRegressor 4 / 9 training finish, cost time 0.09 s.\u001b[0m\n",
      "\u001b[36m[SUCEESS] 4 / 9 model validation scores: {'mse': 0.5736755860475627, 'model': 'DecisionTreeRegressor'}\u001b[0m\n",
      "\u001b[32m[INFO] Model ExtraTreeRegressor 5 / 9 training begin.\u001b[0m\n",
      "\u001b[32m[INFO] Model ExtraTreeRegressor 5 / 9 training finish, cost time 0.021 s.\u001b[0m\n",
      "\u001b[36m[SUCEESS] 5 / 9 model validation scores: {'mse': 0.5742469851574022, 'model': 'ExtraTreeRegressor'}\u001b[0m\n",
      "\u001b[32m[INFO] Model RandomForestRegressor 6 / 9 training begin.\u001b[0m\n",
      "\u001b[32m[INFO] Model RandomForestRegressor 6 / 9 training finish, cost time 5.519 s.\u001b[0m\n",
      "\u001b[36m[SUCEESS] 6 / 9 model validation scores: {'mse': 0.27760820589826135, 'model': 'RandomForestRegressor'}\u001b[0m\n",
      "\u001b[32m[INFO] Model ExtraTreesRegressor 7 / 9 training begin.\u001b[0m\n",
      "\u001b[32m[INFO] Model ExtraTreesRegressor 7 / 9 training finish, cost time 1.955 s.\u001b[0m\n",
      "\u001b[36m[SUCEESS] 7 / 9 model validation scores: {'mse': 0.2697016069660395, 'model': 'ExtraTreesRegressor'}\u001b[0m\n",
      "\u001b[32m[INFO] Model GradientBoostingRegressor 8 / 9 training begin.\u001b[0m\n",
      "\u001b[32m[INFO] Model GradientBoostingRegressor 8 / 9 training finish, cost time 1.963 s.\u001b[0m\n",
      "\u001b[36m[SUCEESS] 8 / 9 model validation scores: {'mse': 0.29602819671568953, 'model': 'GradientBoostingRegressor'}\u001b[0m\n",
      "\u001b[32m[INFO] Model HistGradientBoostingRegressor 9 / 9 training begin.\u001b[0m\n",
      "\u001b[32m[INFO] Model HistGradientBoostingRegressor 9 / 9 training finish, cost time 0.192 s.\u001b[0m\n",
      "\u001b[36m[SUCEESS] 9 / 9 model validation scores: {'mse': 0.24186719675288282, 'model': 'HistGradientBoostingRegressor'}\u001b[0m\n",
      "\u001b[32m[INFO] hold-out method training finish, cost time 14.523 s.\u001b[0m\n",
      "\u001b[36m[SUCEESS] total 9 model validation scores:{'mse': 0.34235209151511964, 'model': 'DecisionTreeRegressor,ExtraTreeRegressor,ExtraTreesRegressor,GradientBoostingRegressor,HistGradientBoostingRegressor,KNeighborsRegressor,LinearRegression,RandomForestRegressor,SVR'}\u001b[0m\n",
      "0.33364035345907606\n"
     ]
    }
   ],
   "source": [
    "hom = HOM(task='reg', model=['lr', 'svm', 'knn', 'dt', 'et', 'rf', 'ets', 'gb', 'hgb'], sklearn_api=True, epochs=100)\n",
    "hom.fit(x_train, y_train, x_valid, y_valid)\n",
    "print(mean_squared_error(y_test, hom.predict(x_test)))"
   ]
  },
  {
   "cell_type": "code",
   "execution_count": 4,
   "metadata": {},
   "outputs": [
    {
     "name": "stdout",
     "output_type": "stream",
     "text": [
      "\u001b[33m[CONFLICT] model_str 'lr' is not supported when sklearn_api=False, automatically use sklearn api.\u001b[0m\n",
      "\u001b[33m[CONFLICT] model_str 'svm' is not supported when sklearn_api=False, automatically use sklearn api.\u001b[0m\n",
      "\u001b[33m[CONFLICT] model_str 'knn' is not supported when sklearn_api=False, automatically use sklearn api.\u001b[0m\n",
      "\u001b[33m[CONFLICT] model_str 'dt' is not supported when sklearn_api=False, automatically use sklearn api.\u001b[0m\n",
      "\u001b[33m[CONFLICT] model_str 'et' is not supported when sklearn_api=False, automatically use sklearn api.\u001b[0m\n",
      "\u001b[32m[INFO] 5-fold training begin.\u001b[0m\n",
      "\u001b[32m[INFO] Model LinearRegression, Fold 1 / 5 training begin.\u001b[0m\n",
      "\u001b[32m[INFO] Model LinearRegression, Fold 1 / 5 training finish, cost time 0.003 s.\u001b[0m\n",
      "\u001b[36m[SUCEESS] 1 / 5 fold validation scores: {'mse': 0.5457590498841819, 'model': 'LinearRegression'}\u001b[0m\n",
      "\u001b[32m[INFO] Model SVR, Fold 2 / 5 training begin.\u001b[0m\n",
      "\u001b[32m[INFO] Model SVR, Fold 2 / 5 training finish, cost time 2.993 s.\u001b[0m\n",
      "\u001b[36m[SUCEESS] 2 / 5 fold validation scores: {'mse': 1.3382271616545502, 'model': 'SVR'}\u001b[0m\n",
      "\u001b[32m[INFO] Model KNeighborsRegressor, Fold 3 / 5 training begin.\u001b[0m\n",
      "\u001b[32m[INFO] Model KNeighborsRegressor, Fold 3 / 5 training finish, cost time 0.014 s.\u001b[0m\n",
      "\u001b[36m[SUCEESS] 3 / 5 fold validation scores: {'mse': 1.1767756787002692, 'model': 'KNeighborsRegressor'}\u001b[0m\n",
      "\u001b[32m[INFO] Model DecisionTreeRegressor, Fold 4 / 5 training begin.\u001b[0m\n",
      "\u001b[32m[INFO] Model DecisionTreeRegressor, Fold 4 / 5 training finish, cost time 0.07 s.\u001b[0m\n",
      "\u001b[36m[SUCEESS] 4 / 5 fold validation scores: {'mse': 0.48016952148837994, 'model': 'DecisionTreeRegressor'}\u001b[0m\n",
      "\u001b[32m[INFO] Model ExtraTreeRegressor, Fold 5 / 5 training begin.\u001b[0m\n",
      "\u001b[32m[INFO] Model ExtraTreeRegressor, Fold 5 / 5 training finish, cost time 0.016 s.\u001b[0m\n",
      "\u001b[36m[SUCEESS] 5 / 5 fold validation scores: {'mse': 0.5965668351344945, 'model': 'ExtraTreeRegressor'}\u001b[0m\n",
      "\u001b[32m[INFO] 5-fold training finish, cost time 3.097 s.\u001b[0m\n",
      "\u001b[36m[SUCEESS] total 5-fold validation scores:{'mse': 0.8275171323623244, 'model': 'DecisionTreeRegressor,ExtraTreeRegressor,KNeighborsRegressor,LinearRegression,SVR'}\u001b[0m\n",
      "0.4991433780308316\n"
     ]
    }
   ],
   "source": [
    "oof = OOF(task='reg', model=['lr', 'svm', 'knn', 'dt', 'et'])\n",
    "oof.fit(x_train, y_train)\n",
    "print(mean_squared_error(y_test, oof.predict(x_test)))"
   ]
  },
  {
   "cell_type": "code",
   "execution_count": 5,
   "metadata": {},
   "outputs": [
    {
     "name": "stdout",
     "output_type": "stream",
     "text": [
      "\u001b[33m[CONFLICT] model_str 'lr' is not supported when sklearn_api=False, automatically use sklearn api.\u001b[0m\n",
      "\u001b[33m[CONFLICT] model_str 'rf' is not supported when sklearn_api=False, automatically use sklearn api.\u001b[0m\n",
      "\u001b[33m[CONFLICT] model_str 'ets' is not supported when sklearn_api=False, automatically use sklearn api.\u001b[0m\n",
      "\u001b[33m[CONFLICT] model_str 'gb' is not supported when sklearn_api=False, automatically use sklearn api.\u001b[0m\n",
      "\u001b[33m[CONFLICT] model_str 'hgb' is not supported when sklearn_api=False, automatically use sklearn api.\u001b[0m\n",
      "\u001b[32m[INFO] 5-fold training begin.\u001b[0m\n",
      "\u001b[32m[INFO] Model LinearRegression, Fold 1 / 5 training begin.\u001b[0m\n",
      "\u001b[32m[INFO] Model LinearRegression, Fold 1 / 5 training finish, cost time 0.003 s.\u001b[0m\n",
      "\u001b[36m[SUCEESS] 1 / 5 fold validation scores: {'mse': 0.5457590498841819, 'model': 'LinearRegression'}\u001b[0m\n",
      "\u001b[32m[INFO] Model RandomForestRegressor, Fold 2 / 5 training begin.\u001b[0m\n",
      "\u001b[32m[INFO] Model RandomForestRegressor, Fold 2 / 5 training finish, cost time 42.727 s.\u001b[0m\n",
      "\u001b[36m[SUCEESS] 2 / 5 fold validation scores: {'mse': 0.2594281747294831, 'model': 'RandomForestRegressor'}\u001b[0m\n",
      "\u001b[32m[INFO] Model ExtraTreesRegressor, Fold 3 / 5 training begin.\u001b[0m\n",
      "\u001b[32m[INFO] Model ExtraTreesRegressor, Fold 3 / 5 training finish, cost time 15.512 s.\u001b[0m\n",
      "\u001b[36m[SUCEESS] 3 / 5 fold validation scores: {'mse': 0.25368466420314084, 'model': 'ExtraTreesRegressor'}\u001b[0m\n",
      "\u001b[32m[INFO] Model GradientBoostingRegressor, Fold 4 / 5 training begin.\u001b[0m\n",
      "\u001b[32m[INFO] Model GradientBoostingRegressor, Fold 4 / 5 training finish, cost time 15.628 s.\u001b[0m\n",
      "\u001b[36m[SUCEESS] 4 / 5 fold validation scores: {'mse': 0.22589359119315458, 'model': 'GradientBoostingRegressor'}\u001b[0m\n",
      "\u001b[32m[INFO] Model HistGradientBoostingRegressor, Fold 5 / 5 training begin.\u001b[0m\n",
      "\u001b[32m[INFO] Model HistGradientBoostingRegressor, Fold 5 / 5 training finish, cost time 0.218 s.\u001b[0m\n",
      "\u001b[36m[SUCEESS] 5 / 5 fold validation scores: {'mse': 0.2356909548977793, 'model': 'HistGradientBoostingRegressor'}\u001b[0m\n",
      "\u001b[32m[INFO] 5-fold training finish, cost time 74.09 s.\u001b[0m\n",
      "\u001b[36m[SUCEESS] total 5-fold validation scores:{'mse': 0.30409646529421996, 'model': 'ExtraTreesRegressor,GradientBoostingRegressor,HistGradientBoostingRegressor,LinearRegression,RandomForestRegressor'}\u001b[0m\n",
      "0.2555506881471685\n"
     ]
    }
   ],
   "source": [
    "oof = OOF(task='reg', model=['lr', 'rf', 'ets', 'gb', 'hgb'])\n",
    "oof.fit(x_train, y_train)\n",
    "print(mean_squared_error(y_test, oof.predict(x_test)))"
   ]
  },
  {
   "cell_type": "code",
   "execution_count": 6,
   "metadata": {},
   "outputs": [],
   "source": [
    "x, y = load_iris(return_X_y=True, as_frame=True)\n",
    "x_train, x_test, y_train, y_test = train_test_split(x, y, test_size=0.2, random_state=42)\n",
    "x_train, x_valid, y_train, y_valid = train_test_split(x_train, y_train, test_size=0.2, random_state=42)"
   ]
  },
  {
   "cell_type": "code",
   "execution_count": 10,
   "metadata": {},
   "outputs": [
    {
     "name": "stdout",
     "output_type": "stream",
     "text": [
      "\u001b[33m[CONFLICT] model_str 'lr' is not supported when sklearn_api=False, automatically use sklearn api.\u001b[0m\n",
      "\u001b[33m[CONFLICT] model_str 'svm' is not supported when sklearn_api=False, automatically use sklearn api.\u001b[0m\n",
      "\u001b[33m[CONFLICT] model_str 'knn' is not supported when sklearn_api=False, automatically use sklearn api.\u001b[0m\n",
      "\u001b[33m[CONFLICT] model_str 'gnb' is not supported when sklearn_api=False, automatically use sklearn api.\u001b[0m\n",
      "\u001b[33m[CONFLICT] model_str 'dt' is not supported when sklearn_api=False, automatically use sklearn api.\u001b[0m\n",
      "\u001b[33m[CONFLICT] model_str 'et' is not supported when sklearn_api=False, automatically use sklearn api.\u001b[0m\n",
      "\u001b[33m[CONFLICT] model_str 'rf' is not supported when sklearn_api=False, automatically use sklearn api.\u001b[0m\n",
      "\u001b[33m[CONFLICT] model_str 'ets' is not supported when sklearn_api=False, automatically use sklearn api.\u001b[0m\n",
      "\u001b[33m[CONFLICT] model_str 'gb' is not supported when sklearn_api=False, automatically use sklearn api.\u001b[0m\n",
      "\u001b[33m[CONFLICT] model_str 'hgb' is not supported when sklearn_api=False, automatically use sklearn api.\u001b[0m\n",
      "\u001b[32m[INFO] hold-out method training begin.\u001b[0m\n",
      "\u001b[32m[INFO] Model LogisticRegression 1 / 10 training begin.\u001b[0m\n",
      "\u001b[32m[INFO] Model LogisticRegression 1 / 10 training finish, cost time 0.011 s.\u001b[0m\n",
      "\u001b[36m[SUCEESS] 1 / 10 model validation scores: {'acc': 0.9583333333333334, 'model': 'LogisticRegression'}\u001b[0m\n",
      "\u001b[32m[INFO] Model SVC 2 / 10 training begin.\u001b[0m\n",
      "\u001b[32m[INFO] Model SVC 2 / 10 training finish, cost time 0.003 s.\u001b[0m\n",
      "\u001b[36m[SUCEESS] 2 / 10 model validation scores: {'acc': 0.9166666666666666, 'model': 'SVC'}\u001b[0m\n",
      "\u001b[32m[INFO] Model KNeighborsClassifier 3 / 10 training begin.\u001b[0m\n",
      "\u001b[32m[INFO] Model KNeighborsClassifier 3 / 10 training finish, cost time 0.002 s.\u001b[0m\n",
      "\u001b[36m[SUCEESS] 3 / 10 model validation scores: {'acc': 0.9166666666666666, 'model': 'KNeighborsClassifier'}\u001b[0m\n",
      "\u001b[32m[INFO] Model GaussianNB 4 / 10 training begin.\u001b[0m\n",
      "\u001b[32m[INFO] Model GaussianNB 4 / 10 training finish, cost time 0.002 s.\u001b[0m\n",
      "\u001b[36m[SUCEESS] 4 / 10 model validation scores: {'acc': 0.9583333333333334, 'model': 'GaussianNB'}\u001b[0m\n",
      "\u001b[32m[INFO] Model DecisionTreeClassifier 5 / 10 training begin.\u001b[0m\n",
      "\u001b[32m[INFO] Model DecisionTreeClassifier 5 / 10 training finish, cost time 0.002 s.\u001b[0m\n",
      "\u001b[36m[SUCEESS] 5 / 10 model validation scores: {'acc': 0.9166666666666666, 'model': 'DecisionTreeClassifier'}\u001b[0m\n",
      "\u001b[32m[INFO] Model ExtraTreeClassifier 6 / 10 training begin.\u001b[0m\n",
      "\u001b[32m[INFO] Model ExtraTreeClassifier 6 / 10 training finish, cost time 0.002 s.\u001b[0m\n",
      "\u001b[36m[SUCEESS] 6 / 10 model validation scores: {'acc': 0.875, 'model': 'ExtraTreeClassifier'}\u001b[0m\n",
      "\u001b[32m[INFO] Model RandomForestClassifier 7 / 10 training begin.\u001b[0m\n",
      "\u001b[32m[INFO] Model RandomForestClassifier 7 / 10 training finish, cost time 0.635 s.\u001b[0m\n",
      "\u001b[36m[SUCEESS] 7 / 10 model validation scores: {'acc': 0.9166666666666666, 'model': 'RandomForestClassifier'}\u001b[0m\n",
      "\u001b[32m[INFO] Model ExtraTreesClassifier 8 / 10 training begin.\u001b[0m\n",
      "\u001b[32m[INFO] Model ExtraTreesClassifier 8 / 10 training finish, cost time 0.452 s.\u001b[0m\n",
      "\u001b[36m[SUCEESS] 8 / 10 model validation scores: {'acc': 0.9166666666666666, 'model': 'ExtraTreesClassifier'}\u001b[0m\n",
      "\u001b[32m[INFO] Model GradientBoostingClassifier 9 / 10 training begin.\u001b[0m\n",
      "\u001b[32m[INFO] Model GradientBoostingClassifier 9 / 10 training finish, cost time 0.917 s.\u001b[0m\n",
      "\u001b[36m[SUCEESS] 9 / 10 model validation scores: {'acc': 0.9583333333333334, 'model': 'GradientBoostingClassifier'}\u001b[0m\n",
      "\u001b[32m[INFO] Model HistGradientBoostingClassifier 10 / 10 training begin.\u001b[0m\n",
      "\u001b[32m[INFO] Model HistGradientBoostingClassifier 10 / 10 training finish, cost time 0.065 s.\u001b[0m\n",
      "\u001b[36m[SUCEESS] 10 / 10 model validation scores: {'acc': 0.9166666666666666, 'model': 'HistGradientBoostingClassifier'}\u001b[0m\n",
      "\u001b[32m[INFO] hold-out method training finish, cost time 2.09 s.\u001b[0m\n",
      "\u001b[36m[SUCEESS] total 10 model validation scores:{'acc': 0.9166666666666666, 'model': 'DecisionTreeClassifier,ExtraTreeClassifier,ExtraTreesClassifier,GaussianNB,GradientBoostingClassifier,HistGradientBoostingClassifier,KNeighborsClassifier,LogisticRegression,RandomForestClassifier,SVC'}\u001b[0m\n",
      "1.0\n"
     ]
    }
   ],
   "source": [
    "hom = HOM(task='cls', model=['lr', 'svm', 'knn', 'gnb', 'dt', 'et', 'rf', 'ets', 'gb', 'hgb'])\n",
    "hom.fit(x_train, y_train, x_valid, y_valid)\n",
    "print(accuracy_score(y_test, hom.predict(x_test).argmax(axis=1)))"
   ]
  },
  {
   "cell_type": "code",
   "execution_count": 11,
   "metadata": {},
   "outputs": [
    {
     "name": "stdout",
     "output_type": "stream",
     "text": [
      "\u001b[33m[CONFLICT] model_str 'lr' is not supported when sklearn_api=False, automatically use sklearn api.\u001b[0m\n",
      "\u001b[33m[CONFLICT] model_str 'svm' is not supported when sklearn_api=False, automatically use sklearn api.\u001b[0m\n",
      "\u001b[33m[CONFLICT] model_str 'knn' is not supported when sklearn_api=False, automatically use sklearn api.\u001b[0m\n",
      "\u001b[33m[CONFLICT] model_str 'dt' is not supported when sklearn_api=False, automatically use sklearn api.\u001b[0m\n",
      "\u001b[33m[CONFLICT] model_str 'et' is not supported when sklearn_api=False, automatically use sklearn api.\u001b[0m\n",
      "\u001b[32m[INFO] 5-fold training begin.\u001b[0m\n",
      "\u001b[32m[INFO] Model LogisticRegression, Fold 1 / 5 training begin.\u001b[0m\n",
      "\u001b[32m[INFO] Model LogisticRegression, Fold 1 / 5 training finish, cost time 0.009 s.\u001b[0m\n",
      "\u001b[36m[SUCEESS] 1 / 5 fold validation scores: {'acc': 0.95, 'model': 'LogisticRegression'}\u001b[0m\n",
      "\u001b[32m[INFO] Model SVC, Fold 2 / 5 training begin.\u001b[0m\n",
      "\u001b[32m[INFO] Model SVC, Fold 2 / 5 training finish, cost time 0.002 s.\u001b[0m\n",
      "\u001b[36m[SUCEESS] 2 / 5 fold validation scores: {'acc': 1.0, 'model': 'SVC'}\u001b[0m\n",
      "\u001b[32m[INFO] Model KNeighborsClassifier, Fold 3 / 5 training begin.\u001b[0m\n",
      "\u001b[32m[INFO] Model KNeighborsClassifier, Fold 3 / 5 training finish, cost time 0.002 s.\u001b[0m\n",
      "\u001b[36m[SUCEESS] 3 / 5 fold validation scores: {'acc': 1.0, 'model': 'KNeighborsClassifier'}\u001b[0m\n",
      "\u001b[32m[INFO] Model DecisionTreeClassifier, Fold 4 / 5 training begin.\u001b[0m\n",
      "\u001b[32m[INFO] Model DecisionTreeClassifier, Fold 4 / 5 training finish, cost time 0.002 s.\u001b[0m\n",
      "\u001b[36m[SUCEESS] 4 / 5 fold validation scores: {'acc': 0.9473684210526315, 'model': 'DecisionTreeClassifier'}\u001b[0m\n",
      "\u001b[32m[INFO] Model ExtraTreeClassifier, Fold 5 / 5 training begin.\u001b[0m\n",
      "\u001b[32m[INFO] Model ExtraTreeClassifier, Fold 5 / 5 training finish, cost time 0.002 s.\u001b[0m\n",
      "\u001b[36m[SUCEESS] 5 / 5 fold validation scores: {'acc': 0.8421052631578947, 'model': 'ExtraTreeClassifier'}\u001b[0m\n",
      "\u001b[32m[INFO] 5-fold training finish, cost time 0.018 s.\u001b[0m\n",
      "\u001b[36m[SUCEESS] total 5-fold validation scores:{'acc': 0.9479166666666666, 'model': 'DecisionTreeClassifier,ExtraTreeClassifier,KNeighborsClassifier,LogisticRegression,SVC'}\u001b[0m\n",
      "1.0\n"
     ]
    }
   ],
   "source": [
    "oof = OOF(task='cls', model=['lr', 'svm', 'knn', 'dt', 'et'])\n",
    "oof.fit(x_train, y_train)\n",
    "print(accuracy_score(y_test, hom.predict(x_test).argmax(axis=1)))"
   ]
  },
  {
   "cell_type": "code",
   "execution_count": 12,
   "metadata": {},
   "outputs": [
    {
     "name": "stdout",
     "output_type": "stream",
     "text": [
      "\u001b[33m[CONFLICT] model_str 'gnb' is not supported when sklearn_api=False, automatically use sklearn api.\u001b[0m\n",
      "\u001b[33m[CONFLICT] model_str 'rf' is not supported when sklearn_api=False, automatically use sklearn api.\u001b[0m\n",
      "\u001b[33m[CONFLICT] model_str 'ets' is not supported when sklearn_api=False, automatically use sklearn api.\u001b[0m\n",
      "\u001b[33m[CONFLICT] model_str 'gb' is not supported when sklearn_api=False, automatically use sklearn api.\u001b[0m\n",
      "\u001b[33m[CONFLICT] model_str 'hgb' is not supported when sklearn_api=False, automatically use sklearn api.\u001b[0m\n",
      "\u001b[32m[INFO] 5-fold training begin.\u001b[0m\n",
      "\u001b[32m[INFO] Model GaussianNB, Fold 1 / 5 training begin.\u001b[0m\n",
      "\u001b[32m[INFO] Model GaussianNB, Fold 1 / 5 training finish, cost time 0.003 s.\u001b[0m\n",
      "\u001b[36m[SUCEESS] 1 / 5 fold validation scores: {'acc': 0.95, 'model': 'GaussianNB'}\u001b[0m\n",
      "\u001b[32m[INFO] Model RandomForestClassifier, Fold 2 / 5 training begin.\u001b[0m\n",
      "\u001b[32m[INFO] Model RandomForestClassifier, Fold 2 / 5 training finish, cost time 0.626 s.\u001b[0m\n",
      "\u001b[36m[SUCEESS] 2 / 5 fold validation scores: {'acc': 1.0, 'model': 'RandomForestClassifier'}\u001b[0m\n",
      "\u001b[32m[INFO] Model ExtraTreesClassifier, Fold 3 / 5 training begin.\u001b[0m\n",
      "\u001b[32m[INFO] Model ExtraTreesClassifier, Fold 3 / 5 training finish, cost time 0.452 s.\u001b[0m\n",
      "\u001b[36m[SUCEESS] 3 / 5 fold validation scores: {'acc': 1.0, 'model': 'ExtraTreesClassifier'}\u001b[0m\n",
      "\u001b[32m[INFO] Model GradientBoostingClassifier, Fold 4 / 5 training begin.\u001b[0m\n",
      "\u001b[32m[INFO] Model GradientBoostingClassifier, Fold 4 / 5 training finish, cost time 0.895 s.\u001b[0m\n",
      "\u001b[36m[SUCEESS] 4 / 5 fold validation scores: {'acc': 0.9473684210526315, 'model': 'GradientBoostingClassifier'}\u001b[0m\n",
      "\u001b[32m[INFO] Model HistGradientBoostingClassifier, Fold 5 / 5 training begin.\u001b[0m\n",
      "\u001b[32m[INFO] Model HistGradientBoostingClassifier, Fold 5 / 5 training finish, cost time 0.059 s.\u001b[0m\n",
      "\u001b[36m[SUCEESS] 5 / 5 fold validation scores: {'acc': 0.8947368421052632, 'model': 'HistGradientBoostingClassifier'}\u001b[0m\n",
      "\u001b[32m[INFO] 5-fold training finish, cost time 2.037 s.\u001b[0m\n",
      "\u001b[36m[SUCEESS] total 5-fold validation scores:{'acc': 0.9583333333333334, 'model': 'ExtraTreesClassifier,GaussianNB,GradientBoostingClassifier,HistGradientBoostingClassifier,RandomForestClassifier'}\u001b[0m\n",
      "1.0\n"
     ]
    }
   ],
   "source": [
    "oof = OOF(task='cls', model=['gnb', 'rf', 'ets', 'gb', 'hgb'])\n",
    "oof.fit(x_train, y_train)\n",
    "print(accuracy_score(y_test, hom.predict(x_test).argmax(axis=1)))"
   ]
  },
  {
   "cell_type": "code",
   "execution_count": null,
   "metadata": {},
   "outputs": [],
   "source": []
  }
 ],
 "metadata": {
  "kernelspec": {
   "display_name": "mathm",
   "language": "python",
   "name": "python3"
  },
  "language_info": {
   "codemirror_mode": {
    "name": "ipython",
    "version": 3
   },
   "file_extension": ".py",
   "mimetype": "text/x-python",
   "name": "python",
   "nbconvert_exporter": "python",
   "pygments_lexer": "ipython3",
   "version": "3.10.13"
  }
 },
 "nbformat": 4,
 "nbformat_minor": 2
}
